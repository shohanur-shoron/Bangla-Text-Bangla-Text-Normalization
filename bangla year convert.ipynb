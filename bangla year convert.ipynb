{
 "cells": [
  {
   "metadata": {
    "ExecuteTime": {
     "end_time": "2024-12-29T08:42:31.789571Z",
     "start_time": "2024-12-29T08:42:31.787422Z"
    }
   },
   "cell_type": "code",
   "source": "from dateutil.parser import parse",
   "id": "3e8e03a4d30c3bf7",
   "outputs": [],
   "execution_count": 2
  },
  {
   "metadata": {
    "ExecuteTime": {
     "end_time": "2024-12-29T08:42:31.800793Z",
     "start_time": "2024-12-29T08:42:31.790577Z"
    }
   },
   "cell_type": "code",
   "source": [
    "banglaNum = {\n",
    "    '০': \"শূন্য\", '১': \"এক\", '২': \"দুই\", '৩': \"তিন\", '৪': \"চার\", '৫': \"পাঁচ\",\n",
    "    '৬': \"ছয়\", '৭': \"সাত\", '৮': \"আট\", '৯': \"নয়\", '১০': \"দশ\", '১১': \"এগারো\", '১২': \"বারো\", \n",
    "    '১৩': \"তেরো\", '১৪': \"চৌদ্দ\", '১৫': \"পনেরো\", '১৬': \"ষোল\", '১৭': \"সতেরো\", '১৮': \"আঠারো\", '১৯': \"উনিশ\",\n",
    "    '২০': \"বিশ\", '২১': \"একুশ\", '২২': \"বাইশ\", '২৩': \"তেইশ\", '২৪': \"চব্বিশ\", '২৫': \"পঁচিশ\", \n",
    "    '২৬': \"ছাব্বিশ\", '২৭': \"সাতাশ\", '২৮': \"আটাশ\", '২৯': \"ঊনত্রিশ\", '৩০': \"ত্রিশ\", '৩১': \"একত্রিশ\",\n",
    "    '৩২': \"বত্রিশ\", '৩৩': \"তেত্রিশ\", '৩৪': \"চৌত্রিশ\", '৩৫': \"পঁইত্রিশ\", '৩৬': \"ছত্রিশ\", \n",
    "    '৩৭': \"সাঁইত্রিশ\", '৩৮': \"আটত্রিশ\", '৩৯': \"ঊনচল্লিশ\", '৪০': \"চল্লিশ\", '৪১': \"একচল্লিশ\",\n",
    "    '৪২': \"বিয়াল্লিশ\", '৪৩': \"তেতাল্লিশ\", '৪৪': \"চুয়াল্লিশ\", '৪৫': \"পঁইতাল্লিশ\", \n",
    "    '৪৬': \"ছেচল্লিশ\", '৪৭': \"সাতচল্লিশ\", '৪৮': \"আটচল্লিশ\", '৪৯': \"ঊনপঞ্চাশ\", '৫০': \"পঞ্চাশ\",\n",
    "    '৫১': \"একান্ন\", '৫২': \"বায়ান্ন\", '৫৩': \"তেপ্পান্ন\", '৫৪': \"চুয়ান্ন\", '৫৫': \"পঞ্চান্ন\", \n",
    "    '৫৬': \"ছাপ্পান্ন\", '৫৭': \"সাতান্ন\", '৫৮': \"আটান্ন\", '৫৯': \"ঊনষাট\", '৬০': \"ষাট\", '৬১': \"একষট্টি\",\n",
    "    '৬২': \"বাষট্টি\", '৬৩': \"তেষট্টি\", '৬৪': \"চৌষট্টি\", '৬৫': \"পঁইষট্টি\", '৬৬': \"ছেষট্টি\", \n",
    "    '৬৭': \"সাতষট্টি\", '৬৮': \"আটষট্টি\", '৬৯': \"ঊনসত্তর\", '৭০': \"সত্তর\", '৭১': \"একাত্তর\", \n",
    "    '৭২': \"বাহাত্তর\", '৭৩': \"তিয়াত্তর\", '৭৪': \"চুয়াত্তর\", '৭৫': \"পঁচাত্তর\", '৭৬': \"ছিয়াত্তর\", \n",
    "    '৭৭': \"সাতাত্তর\", '৭৮': \"আটাত্তর\", '৭৯': \"ঊনআশি\", '৮০': \"আশি\", '৮১': \"একাশি\", \n",
    "    '৮২': \"বিরাশি\", '৮৩': \"তিরাশি\", '৮৪': \"চুরাশি\", '৮৫': \"পঁচাশি\", '৮৬': \"ছিয়াশি\", \n",
    "    '৮৭': \"সাতাশি\", '৮৮': \"আটাশি\", '৮৯': \"ঊননব্বই\", '৯০': \"নব্বই\", '৯১': \"একানব্বই\", \n",
    "    '৯২': \"বিরানব্বই\", '৯৩': \"তিরানব্বই\", '৯৪': \"চুরানব্বই\", '৯৫': \"পঁচানব্বই\", \n",
    "    '৯৬': \"ছিয়ানব্বই\", '৯৭': \"সাতানব্বই\", '৯৮': \"আটানব্বই\", '৯৯': \"নিরানব্বই\"\n",
    "}\n",
    "\n",
    "englishNum = {\n",
    "    0: \"শূন্য\", 1: \"এক\", 2: \"দুই\", 3: \"তিন\", 4: \"চার\", 5: \"পাঁচ\",\n",
    "    6: \"ছয়\", 7: \"সাত\", 8: \"আট\", 9: \"নয়\", 10: \"দশ\", 11: \"এগারো\", 12: \"বারো\",\n",
    "    13: \"তেরো\", 14: \"চৌদ্দ\", 15: \"পনেরো\", 16: \"ষোল\", 17: \"সতেরো\", 18: \"আঠারো\", 19: \"উনিশ\",\n",
    "    20: \"বিশ\", 21: \"একুশ\", 22: \"বাইশ\", 23: \"তেইশ\", 24: \"চব্বিশ\", 25: \"পঁচিশ\",\n",
    "    26: \"ছাব্বিশ\", 27: \"সাতাশ\", 28: \"আটাশ\", 29: \"ঊনত্রিশ\", 30: \"ত্রিশ\", 31: \"একত্রিশ\",\n",
    "    32: \"বত্রিশ\", 33: \"তেত্রিশ\", 34: \"চৌত্রিশ\", 35: \"পঁইত্রিশ\", 36: \"ছত্রিশ\",\n",
    "    37: \"সাঁইত্রিশ\", 38: \"আটত্রিশ\", 39: \"ঊনচল্লিশ\", 40: \"চল্লিশ\", 41: \"একচল্লিশ\",\n",
    "    42: \"বিয়াল্লিশ\", 43: \"তেতাল্লিশ\", 44: \"চুয়াল্লিশ\", 45: \"পঁইতাল্লিশ\",\n",
    "    46: \"ছেচল্লিশ\", 47: \"সাতচল্লিশ\", 48: \"আটচল্লিশ\", 49: \"ঊনপঞ্চাশ\", 50: \"পঞ্চাশ\",\n",
    "    51: \"একান্ন\", 52: \"বায়ান্ন\", 53: \"তেপ্পান্ন\", 54: \"চুয়ান্ন\", 55: \"পঞ্চান্ন\",\n",
    "    56: \"ছাপ্পান্ন\", 57: \"সাতান্ন\", 58: \"আটান্ন\", 59: \"ঊনষাট\", 60: \"ষাট\", 61: \"একষট্টি\",\n",
    "    62: \"বাষট্টি\", 63: \"তেষট্টি\", 64: \"চৌষট্টি\", 65: \"পঁইষট্টি\", 66: \"ছেষট্টি\",\n",
    "    67: \"সাতষট্টি\", 68: \"আটষট্টি\", 69: \"ঊনসত্তর\", 70: \"সত্তর\", 71: \"একাত্তর\",\n",
    "    72: \"বাহাত্তর\", 73: \"তিয়াত্তর\", 74: \"চুয়াত্তর\", 75: \"পঁচাত্তর\", 76: \"ছিয়াত্তর\",\n",
    "    77: \"সাতাত্তর\", 78: \"আটাত্তর\", 79: \"ঊনআশি\", 80: \"আশি\", 81: \"একাশি\",\n",
    "    82: \"বিরাশি\", 83: \"তিরাশি\", 84: \"চুরাশি\", 85: \"পঁচাশি\", 86: \"ছিয়াশি\",\n",
    "    87: \"সাতাশি\", 88: \"আটাশি\", 89: \"ঊননব্বই\", 90: \"নব্বই\", 91: \"একানব্বই\",\n",
    "    92: \"বিরানব্বই\", 93: \"তিরানব্বই\", 94: \"চুরানব্বই\", 95: \"পঁচানব্বই\",\n",
    "    96: \"ছিয়ানব্বই\", 97: \"সাতানব্বই\", 98: \"আটানব্বই\", 99: \"নিরানব্বই\"\n",
    "}\n",
    "\n",
    "day_name = {\n",
    "    \"১\": \"এক\",\n",
    "    \"২\": \"দুই\",\n",
    "    \"৩\": \"তিন\",\n",
    "    \"৪\": \"চার\",\n",
    "    \"৫\": \"পাঁচ\",\n",
    "    \"৬\": \"ছয়\",\n",
    "    \"৭\": \"সাত\",\n",
    "    \"৮\": \"আট\",\n",
    "    \"৯\": \"নয়\",\n",
    "    \"১০\": \"দশে\",\n",
    "    \"১১\": \"এগারোই\",\n",
    "    \"১২\": \"বারোই\",\n",
    "    \"১৩\": \"তেরোই\",\n",
    "    \"১৪\": \"চৌদ্দই\",\n",
    "    \"১৫\": \"পনেরোই\",\n",
    "    \"১৬\": \"ষোলোই\",\n",
    "    \"১৭\": \"সতেরোই\",\n",
    "    \"১৮\": \"আঠারোই\",\n",
    "    \"১৯\": \"উনিশে\",\n",
    "    \"২০\": \"বিশে\",\n",
    "    \"২১\": \"একুশে\",\n",
    "    \"২২\": \"বাইশে\",\n",
    "    \"২৩\": \"তেইশে\",\n",
    "    \"২৪\": \"চব্বিশে\",\n",
    "    \"২৫\": \"পঁচিশে\",\n",
    "    \"২৬\": \"ছাব্বিশে\",\n",
    "    \"২৭\": \"সাতাশে\",\n",
    "    \"২৮\": \"আটাশে\",\n",
    "    \"২৯\": \"উনত্রিশে\",\n",
    "    \"৩০\": \"ত্রিশে\",\n",
    "    \"৩১\": \"একত্রিশে\"\n",
    "}\n",
    "\n",
    "hundred_suffix = \"শো\"\n",
    "thousand = \"হাজার\"\n",
    "time_suffix = \"টা\"\n",
    "minute_suffix = \"মিনিট\"\n",
    "temp_suffix = 'ডিগ্রি সেলসিয়াস'\n",
    "\n",
    "banglaNum['৯৬'], englishNum[65], day_name[\"২৩\"]"
   ],
   "id": "initial_id",
   "outputs": [
    {
     "data": {
      "text/plain": [
       "('ছিয়ানব্বই', 'পঁইষট্টি', 'তেইশে')"
      ]
     },
     "execution_count": 3,
     "metadata": {},
     "output_type": "execute_result"
    }
   ],
   "execution_count": 3
  },
  {
   "metadata": {
    "ExecuteTime": {
     "end_time": "2024-12-29T08:42:31.803921Z",
     "start_time": "2024-12-29T08:42:31.800793Z"
    }
   },
   "cell_type": "code",
   "source": [
    "def convert_bengali_to_english(bengali_number):\n",
    "    bengali_to_english = {\n",
    "        '০': '0', '১': '1', '২': '2', '৩': '3', '৪': '4',\n",
    "        '৫': '5', '৬': '6', '৭': '7', '৮': '8', '৯': '9'\n",
    "    }\n",
    "    english_number = ''.join(bengali_to_english[digit] for digit in str(bengali_number))\n",
    "    num1 = int(english_number)//100*100\n",
    "    num2 = int(english_number)%100\n",
    "    return num1, num2"
   ],
   "id": "5111586075e7f378",
   "outputs": [],
   "execution_count": 4
  },
  {
   "metadata": {
    "ExecuteTime": {
     "end_time": "2024-12-29T08:42:31.807340Z",
     "start_time": "2024-12-29T08:42:31.803921Z"
    }
   },
   "cell_type": "code",
   "source": [
    "def extract_date_components_bangla(bangla_date):\n",
    "    bangla_months = {\n",
    "        \"জানুয়ারি\": \"January\",\n",
    "        \"ফেব্রুয়ারি\": \"February\",\n",
    "        \"মার্চ\": \"March\",\n",
    "        \"এপ্রিল\": \"April\",\n",
    "        \"মে\": \"May\",\n",
    "        \"জুন\": \"June\",\n",
    "        \"জুলাই\": \"July\",\n",
    "        \"আগস্ট\": \"August\",\n",
    "        \"সেপ্টেম্বর\": \"September\",\n",
    "        \"অক্টোবর\": \"October\",\n",
    "        \"নভেম্বর\": \"November\",\n",
    "        \"ডিসেম্বর\": \"December\",\n",
    "    }\n",
    "    \n",
    "    bangla_to_english_digits = str.maketrans(\"০১২৩৪৫৬৭৮৯\", \"0123456789\")\n",
    "    english_to_bangla_digits = str.maketrans(\"0123456789\", \"০১২৩৪৫৬৭৮৯\")\n",
    "    \n",
    "    try:\n",
    "        for bangla_month, english_month in bangla_months.items():\n",
    "            bangla_date = bangla_date.replace(bangla_month, english_month)\n",
    "        \n",
    "        # Convert Bangla digits to English digits\n",
    "        bangla_date = bangla_date.translate(bangla_to_english_digits)\n",
    "        \n",
    "        # Parse the processed date\n",
    "        parsed_date = parse(bangla_date, dayfirst=True, fuzzy=True)\n",
    "        day = str(parsed_date.day).translate(english_to_bangla_digits)\n",
    "        month = list(bangla_months.keys())[list(bangla_months.values()).index(parsed_date.strftime(\"%B\"))]\n",
    "        year = str(parsed_date.year).translate(english_to_bangla_digits)\n",
    "        return day, month, year\n",
    "    except Exception as e:\n",
    "        return f\"Error: {str(e)}\""
   ],
   "id": "83cb8d28c1dd2970",
   "outputs": [],
   "execution_count": 5
  },
  {
   "metadata": {
    "ExecuteTime": {
     "end_time": "2024-12-29T08:42:31.810575Z",
     "start_time": "2024-12-29T08:42:31.808345Z"
    }
   },
   "cell_type": "code",
   "source": [
    "def to_word(date):\n",
    "    day, month, year = extract_date_components_bangla(date)\n",
    "    word = ''\n",
    "    first_half, second_half = convert_bengali_to_english(year)\n",
    "    if first_half%1000 == 0:\n",
    "        num = first_half//1000\n",
    "        word = englishNum[num] + \" \" + thousand\n",
    "    else:\n",
    "        num = first_half//100\n",
    "        word = englishNum[num] + hundred_suffix\n",
    "        \n",
    "    if second_half != 0:\n",
    "        word = word + \" \" + englishNum[second_half]\n",
    "    \n",
    "    word = day_name[day] + \" \" + month + \" \" + word\n",
    "    return word"
   ],
   "id": "7ddc60f2f96fe035",
   "outputs": [],
   "execution_count": 6
  },
  {
   "metadata": {
    "ExecuteTime": {
     "end_time": "2024-12-29T08:42:31.813685Z",
     "start_time": "2024-12-29T08:42:31.810575Z"
    }
   },
   "cell_type": "code",
   "source": [
    "date = \"২৮-১২-২০২৪\"\n",
    "to_word(date)"
   ],
   "id": "1c2207a6e38cd6ba",
   "outputs": [
    {
     "data": {
      "text/plain": [
       "'আটাশে ডিসেম্বর দুই হাজার চব্বিশ'"
      ]
     },
     "execution_count": 7,
     "metadata": {},
     "output_type": "execute_result"
    }
   ],
   "execution_count": 7
  },
  {
   "metadata": {
    "ExecuteTime": {
     "end_time": "2024-12-29T08:42:31.816729Z",
     "start_time": "2024-12-29T08:42:31.813685Z"
    }
   },
   "cell_type": "code",
   "source": [
    "date = \"২৮ ডিসেম্বর, ২০২৪\"\n",
    "to_word(date)"
   ],
   "id": "8fe20a0b7b3782f2",
   "outputs": [
    {
     "data": {
      "text/plain": [
       "'আটাশে ডিসেম্বর দুই হাজার চব্বিশ'"
      ]
     },
     "execution_count": 8,
     "metadata": {},
     "output_type": "execute_result"
    }
   ],
   "execution_count": 8
  },
  {
   "metadata": {
    "ExecuteTime": {
     "end_time": "2024-12-29T08:42:31.819859Z",
     "start_time": "2024-12-29T08:42:31.816729Z"
    }
   },
   "cell_type": "code",
   "source": [
    "date = \"১৫/ফেব্রুয়ারি/২০২৪\"\n",
    "to_word(date)"
   ],
   "id": "72ef910d3349f5aa",
   "outputs": [
    {
     "data": {
      "text/plain": [
       "'পনেরোই ফেব্রুয়ারি দুই হাজার চব্বিশ'"
      ]
     },
     "execution_count": 9,
     "metadata": {},
     "output_type": "execute_result"
    }
   ],
   "execution_count": 9
  },
  {
   "metadata": {
    "ExecuteTime": {
     "end_time": "2024-12-29T08:42:31.822849Z",
     "start_time": "2024-12-29T08:42:31.819859Z"
    }
   },
   "cell_type": "code",
   "source": [
    "date = \"২০২৪-১২-১৫\"\n",
    "to_word(date)"
   ],
   "id": "a281d747feae90d0",
   "outputs": [
    {
     "data": {
      "text/plain": [
       "'পনেরোই ডিসেম্বর দুই হাজার চব্বিশ'"
      ]
     },
     "execution_count": 10,
     "metadata": {},
     "output_type": "execute_result"
    }
   ],
   "execution_count": 10
  },
  {
   "metadata": {
    "ExecuteTime": {
     "end_time": "2024-12-29T11:01:03.424630Z",
     "start_time": "2024-12-29T11:01:03.421740Z"
    }
   },
   "cell_type": "code",
   "source": [
    "date = \"২৬/১২/২০২৪\"\n",
    "to_word(date)"
   ],
   "id": "8110c8a50a09163f",
   "outputs": [
    {
     "data": {
      "text/plain": [
       "'ছাব্বিশে ডিসেম্বর দুই হাজার চব্বিশ'"
      ]
     },
     "execution_count": 15,
     "metadata": {},
     "output_type": "execute_result"
    }
   ],
   "execution_count": 15
  },
  {
   "metadata": {
    "ExecuteTime": {
     "end_time": "2024-12-29T10:16:39.698410Z",
     "start_time": "2024-12-29T10:16:39.695208Z"
    }
   },
   "cell_type": "code",
   "source": [
    "date = \"৭-৭-২০০১\"\n",
    "to_word(date)"
   ],
   "id": "892bbd41ad27d6b5",
   "outputs": [
    {
     "data": {
      "text/plain": [
       "'সাত জুলাই দুই হাজার এক'"
      ]
     },
     "execution_count": 14,
     "metadata": {},
     "output_type": "execute_result"
    }
   ],
   "execution_count": 14
  },
  {
   "metadata": {},
   "cell_type": "code",
   "outputs": [],
   "execution_count": null,
   "source": "",
   "id": "eec28e370ba71f62"
  }
 ],
 "metadata": {
  "kernelspec": {
   "display_name": "Python 3",
   "language": "python",
   "name": "python3"
  },
  "language_info": {
   "codemirror_mode": {
    "name": "ipython",
    "version": 2
   },
   "file_extension": ".py",
   "mimetype": "text/x-python",
   "name": "python",
   "nbconvert_exporter": "python",
   "pygments_lexer": "ipython2",
   "version": "2.7.6"
  }
 },
 "nbformat": 4,
 "nbformat_minor": 5
}
