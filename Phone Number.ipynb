{
 "cells": [
  {
   "cell_type": "code",
   "execution_count": 44,
   "id": "1d0ae1d0-e36b-4391-852a-c909c23538c8",
   "metadata": {},
   "outputs": [],
   "source": [
    "import re"
   ]
  },
  {
   "cell_type": "code",
   "execution_count": 53,
   "id": "08e73c0d-1872-409a-a412-106e6fb2a04c",
   "metadata": {},
   "outputs": [],
   "source": [
    "banglaNum = {\n",
    "    '০': \"শূন্য\", '১': \"এক\", '২': \"দুই\", '৩': \"তিন\", '৪': \"চার\", '৫': \"পাঁচ\",\n",
    "    '৬': \"ছয়\", '৭': \"সাত\", '৮': \"আট\", '৯': \"নয়\", '১০': \"দশ\", '১১': \"এগারো\", '১২': \"বারো\", \n",
    "    '১৩': \"তেরো\", '১৪': \"চৌদ্দ\", '১৫': \"পনেরো\", '১৬': \"ষোল\", '১৭': \"সতেরো\", '১৮': \"আঠারো\", '১৯': \"উনিশ\",\n",
    "    '২০': \"কুড়ি\", '২১': \"একুশ\", '২২': \"বাইশ\", '২৩': \"তেইশ\", '২৪': \"চব্বিশ\", '২৫': \"পঁচিশ\", \n",
    "    '২৬': \"ছাব্বিশ\", '২৭': \"সাতাশ\", '২৮': \"আটাশ\", '২৯': \"ঊনত্রিশ\", '৩০': \"ত্রিশ\", '৩১': \"একত্রিশ\",\n",
    "    '৩২': \"বত্রিশ\", '৩৩': \"তেত্রিশ\", '৩৪': \"চৌত্রিশ\", '৩৫': \"পঁইত্রিশ\", '৩৬': \"ছত্রিশ\", \n",
    "    '৩৭': \"সাঁইত্রিশ\", '৩৮': \"আটত্রিশ\", '৩৯': \"ঊনচল্লিশ\", '৪০': \"চল্লিশ\", '৪১': \"একচল্লিশ\",\n",
    "    '৪২': \"বিয়াল্লিশ\", '৪৩': \"তেতাল্লিশ\", '৪৪': \"চুয়াল্লিশ\", '৪৫': \"পঁইতাল্লিশ\", \n",
    "    '৪৬': \"ছেচল্লিশ\", '৪৭': \"সাতচল্লিশ\", '৪৮': \"আটচল্লিশ\", '৪৯': \"ঊনপঞ্চাশ\", '৫০': \"পঞ্চাশ\",\n",
    "    '৫১': \"একান্ন\", '৫২': \"বায়ান্ন\", '৫৩': \"তেপ্পান্ন\", '৫৪': \"চুয়ান্ন\", '৫৫': \"পঞ্চান্ন\", \n",
    "    '৫৬': \"ছাপ্পান্ন\", '৫৭': \"সাতান্ন\", '৫৮': \"আটান্ন\", '৫৯': \"ঊনষাট\", '৬০': \"ষাট\", '৬১': \"একষট্টি\",\n",
    "    '৬২': \"বাষট্টি\", '৬৩': \"তেষট্টি\", '৬৪': \"চৌষট্টি\", '৬৫': \"পঁইষট্টি\", '৬৬': \"ছেষট্টি\", \n",
    "    '৬৭': \"সাতষট্টি\", '৬৮': \"আটষট্টি\", '৬৯': \"ঊনসত্তর\", '৭০': \"সত্তর\", '৭১': \"একাত্তর\", \n",
    "    '৭২': \"বাহাত্তর\", '৭৩': \"তিয়াত্তর\", '৭৪': \"চুয়াত্তর\", '৭৫': \"পঁচাত্তর\", '৭৬': \"ছিয়াত্তর\", \n",
    "    '৭৭': \"সাতাত্তর\", '৭৮': \"আটাত্তর\", '৭৯': \"ঊনআশি\", '৮০': \"আশি\", '৮১': \"একাশি\", \n",
    "    '৮২': \"বিরাশি\", '৮৩': \"তিরাশি\", '৮৪': \"চুরাশি\", '৮৫': \"পঁচাশি\", '৮৬': \"ছিয়াশি\", \n",
    "    '৮৭': \"সাতাশি\", '৮৮': \"আটাশি\", '৮৯': \"ঊননব্বই\", '৯০': \"নব্বই\", '৯১': \"একানব্বই\", \n",
    "    '৯২': \"বিরানব্বই\", '৯৩': \"তিরানব্বই\", '৯৪': \"চুরানব্বই\", '৯৫': \"পঁচানব্বই\", \n",
    "    '৯৬': \"ছিয়ানব্বই\", '৯৭': \"সাতানব্বই\", '৯৮': \"আটানব্বই\", '৯৯': \"নিরানব্বই\", \"+\": \"প্লাস\"\n",
    "}\n",
    "\n",
    "\n",
    "englishNum = {\n",
    "    0: \"শূন্য\", 1: \"এক\", 2: \"দুই\", 3: \"তিন\", 4: \"চার\", 5: \"পাঁচ\",\n",
    "    6: \"ছয়\", 7: \"সাত\", 8: \"আট\", 9: \"নয়\", 10: \"দশ\", 11: \"এগারো\", 12: \"বারো\",\n",
    "    13: \"তেরো\", 14: \"চৌদ্দ\", 15: \"পনেরো\", 16: \"ষোল\", 17: \"সতেরো\", 18: \"আঠারো\", 19: \"উনিশ\",\n",
    "    20: \"বিশ\", 21: \"একুশ\", 22: \"বাইশ\", 23: \"তেইশ\", 24: \"চব্বিশ\", 25: \"পঁচিশ\",\n",
    "    26: \"ছাব্বিশ\", 27: \"সাতাশ\", 28: \"আটাশ\", 29: \"ঊনত্রিশ\", 30: \"ত্রিশ\", 31: \"একত্রিশ\",\n",
    "    32: \"বত্রিশ\", 33: \"তেত্রিশ\", 34: \"চৌত্রিশ\", 35: \"পঁইত্রিশ\", 36: \"ছত্রিশ\",\n",
    "    37: \"সাঁইত্রিশ\", 38: \"আটত্রিশ\", 39: \"ঊনচল্লিশ\", 40: \"চল্লিশ\", 41: \"একচল্লিশ\",\n",
    "    42: \"বিয়াল্লিশ\", 43: \"তেতাল্লিশ\", 44: \"চুয়াল্লিশ\", 45: \"পঁইতাল্লিশ\",\n",
    "    46: \"ছেচল্লিশ\", 47: \"সাতচল্লিশ\", 48: \"আটচল্লিশ\", 49: \"ঊনপঞ্চাশ\", 50: \"পঞ্চাশ\",\n",
    "    51: \"একান্ন\", 52: \"বায়ান্ন\", 53: \"তেপ্পান্ন\", 54: \"চুয়ান্ন\", 55: \"পঞ্চান্ন\",\n",
    "    56: \"ছাপ্পান্ন\", 57: \"সাতান্ন\", 58: \"আটান্ন\", 59: \"ঊনষাট\", 60: \"ষাট\", 61: \"একষট্টি\",\n",
    "    62: \"বাষট্টি\", 63: \"তেষট্টি\", 64: \"চৌষট্টি\", 65: \"পঁইষট্টি\", 66: \"ছেষট্টি\",\n",
    "    67: \"সাতষট্টি\", 68: \"আটষট্টি\", 69: \"ঊনসত্তর\", 70: \"সত্তর\", 71: \"একাত্তর\",\n",
    "    72: \"বাহাত্তর\", 73: \"তিয়াত্তর\", 74: \"চুয়াত্তর\", 75: \"পঁচাত্তর\", 76: \"ছিয়াত্তর\",\n",
    "    77: \"সাতাত্তর\", 78: \"আটাত্তর\", 79: \"ঊনআশি\", 80: \"আশি\", 81: \"একাশি\",\n",
    "    82: \"বিরাশি\", 83: \"তিরাশি\", 84: \"চুরাশি\", 85: \"পঁচাশি\", 86: \"ছিয়াশি\",\n",
    "    87: \"সাতাশি\", 88: \"আটাশি\", 89: \"ঊননব্বই\", 90: \"নব্বই\", 91: \"একানব্বই\",\n",
    "    92: \"বিরানব্বই\", 93: \"তিরানব্বই\", 94: \"চুরানব্বই\", 95: \"পঁচানব্বই\",\n",
    "    96: \"ছিয়ানব্বই\", 97: \"সাতানব্বই\", 98: \"আটানব্বই\", 99: \"নিরানব্বই\", \"+\": \"প্লাস\"\n",
    "}\n",
    "\n",
    "hundred = \"শো\"\n",
    "thousand = \"হাজার\"\n",
    "lakh = \"লক্ষ\"\n",
    "crore = \"কোটি\""
   ]
  },
  {
   "cell_type": "code",
   "execution_count": 46,
   "id": "63046ff0-fa9a-4123-a460-b829af35325d",
   "metadata": {},
   "outputs": [],
   "source": [
    "def remove_extra_spaces(input_text):\n",
    "    cleaned_text = re.sub(r'\\s{2,}', ' ', input_text)\n",
    "    return cleaned_text"
   ]
  },
  {
   "cell_type": "code",
   "execution_count": 47,
   "id": "0b10d9de-32b2-492c-b120-b80746562a24",
   "metadata": {},
   "outputs": [],
   "source": [
    "def bangla_to_english_number(input_number=0):\n",
    "    bangla_to_english_map = {\n",
    "        '০': '0', '১': '1', '২': '2', '৩': '3', '৪': '4',\n",
    "        '৫': '5', '৬': '6', '৭': '7', '৮': '8', '৯': '9', '.': '.'\n",
    "    }\n",
    "    input_str = str(input_number)\n",
    "    english_number = ''.join(bangla_to_english_map.get(char, char) for char in input_str)\n",
    "    \n",
    "    return float(english_number) if '.' in english_number else int(english_number)"
   ]
  },
  {
   "cell_type": "code",
   "execution_count": 48,
   "id": "0e5789e3-6053-428c-8845-01e28122e4d5",
   "metadata": {},
   "outputs": [],
   "source": [
    "def convert_decimal_to_words(decimal_part):\n",
    "    decimal_str = str(decimal_part)\n",
    "    decimal_words = \" \".join(englishNum[int(digit)] for digit in decimal_str if int(digit) in englishNum)\n",
    "    return decimal_words"
   ]
  },
  {
   "cell_type": "code",
   "execution_count": 65,
   "id": "286987fe-1ab2-4b5e-a5e7-6defda2d3796",
   "metadata": {},
   "outputs": [],
   "source": [
    "def convert_phone_number(number):\n",
    "    num = list(number)\n",
    "    if '০১' in number:\n",
    "        word = \" \".join(banglaNum[digit] for digit in num)\n",
    "        return word\n",
    "    else:\n",
    "        word = \" \".join(englishNum[int(digit)] if digit != '+' else \"প্লাস\" for digit in num)\n",
    "        return word\n",
    "    "
   ]
  },
  {
   "cell_type": "code",
   "execution_count": 49,
   "id": "46f362ab-a1ca-465e-9b5b-b8eb55674270",
   "metadata": {},
   "outputs": [],
   "source": [
    "def convert_integer_to_words(number):\n",
    "    if number == 0:\n",
    "        return \"শূন্য\"\n",
    "    \n",
    "    word = \"\"\n",
    "    if number >= 10**7:  # কোটি\n",
    "        crore_part = number // 10**7\n",
    "        word += convert_integer_to_words(crore_part) + \" \" + \"কোটি\"\n",
    "        number %= 10**7\n",
    "    if number >= 10**5:  # লক্ষ\n",
    "        lakh_part = number // 10**5\n",
    "        word += \" \" + convert_integer_to_words(lakh_part) + \" \" + \"লক্ষ\"\n",
    "        number %= 10**5\n",
    "    if number >= 10**3:  # হাজার\n",
    "        thousand_part = number // 10**3\n",
    "        word += \" \" + convert_integer_to_words(thousand_part) + \" \" + \"হাজার\"\n",
    "        number %= 10**3\n",
    "    if number >= 100:  # শত\n",
    "        hundred_part = number // 100\n",
    "        word += \" \" + englishNum[hundred_part] + \"শো\"\n",
    "        number %= 100\n",
    "    if number > 0:  # Remaining less than 100\n",
    "        word += \" \" + englishNum[number]\n",
    "    \n",
    "    return word"
   ]
  },
  {
   "cell_type": "code",
   "execution_count": 50,
   "id": "a0bd4cbf-1743-46ab-963d-8a8fd810549c",
   "metadata": {},
   "outputs": [],
   "source": [
    "def convert_to_word(num):\n",
    "    if '.' in num:\n",
    "        integer_part, decimal_part = num.split('.')[0], num.split(\".\")[1]\n",
    "        integer_part = bangla_to_english_number(integer_part)\n",
    "        decimal_part = bangla_to_english_number(decimal_part)\n",
    "    else:\n",
    "        number = bangla_to_english_number(num)\n",
    "\n",
    "    if \".\" not in num:\n",
    "        word = convert_integer_to_words(number)\n",
    "        return remove_extra_spaces(word.strip())\n",
    "\n",
    "    else:\n",
    "        word = convert_integer_to_words(integer_part)\n",
    "        decimal_words = convert_decimal_to_words(decimal_part)\n",
    "        word += \" দশমিক \" + decimal_words\n",
    "        return remove_extra_spaces(word.strip())\n",
    "    "
   ]
  },
  {
   "cell_type": "code",
   "execution_count": 52,
   "id": "35ed1d95-acb5-42e1-ac5d-5b288840dac1",
   "metadata": {},
   "outputs": [
    {
     "name": "stdout",
     "output_type": "stream",
     "text": [
      "এক লক্ষ বাহাত্তর হাজার তিনশো সাত দশমিক সাত নয় ছয় পাঁচ\n"
     ]
    }
   ],
   "source": [
    "print(convert_to_word('০১৭২৩০৭.৭৯৬৫'))"
   ]
  },
  {
   "cell_type": "code",
   "execution_count": 68,
   "id": "056da30e-a82e-419f-aab9-ee4be8df7528",
   "metadata": {},
   "outputs": [
    {
     "name": "stdout",
     "output_type": "stream",
     "text": [
      "শূন্য এক সাত দুই তিন শূন্য সাত সাত নয় ছয় পাঁচ\n"
     ]
    }
   ],
   "source": [
    "print(convert_phone_number('০১৭২৩০৭৭৯৬৫'))"
   ]
  },
  {
   "cell_type": "code",
   "execution_count": 66,
   "id": "8bd72702-235c-4281-8139-98bbb09e01ba",
   "metadata": {},
   "outputs": [
    {
     "name": "stdout",
     "output_type": "stream",
     "text": [
      "প্লাস আট আট শূন্য এক সাত দুই তিন শূন্য সাত সাত নয় ছয় পাঁচ\n"
     ]
    }
   ],
   "source": [
    "print(convert_phone_number('+8801723077965'))"
   ]
  },
  {
   "cell_type": "code",
   "execution_count": null,
   "id": "439aa24e-5969-4aec-b673-ed1adee6d46b",
   "metadata": {},
   "outputs": [],
   "source": []
  }
 ],
 "metadata": {
  "kernelspec": {
   "display_name": "Python 3 (ipykernel)",
   "language": "python",
   "name": "python3"
  },
  "language_info": {
   "codemirror_mode": {
    "name": "ipython",
    "version": 3
   },
   "file_extension": ".py",
   "mimetype": "text/x-python",
   "name": "python",
   "nbconvert_exporter": "python",
   "pygments_lexer": "ipython3",
   "version": "3.10.2"
  },
  "widgets": {
   "application/vnd.jupyter.widget-state+json": {
    "state": {},
    "version_major": 2,
    "version_minor": 0
   }
  }
 },
 "nbformat": 4,
 "nbformat_minor": 5
}
