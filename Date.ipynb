{
 "cells": [
  {
   "cell_type": "code",
   "id": "initial_id",
   "metadata": {
    "collapsed": true,
    "ExecuteTime": {
     "end_time": "2024-12-26T16:26:18.037118Z",
     "start_time": "2024-12-26T16:26:17.662646Z"
    }
   },
   "source": "import pandas as pd",
   "outputs": [],
   "execution_count": 1
  },
  {
   "metadata": {
    "ExecuteTime": {
     "end_time": "2024-12-26T16:28:11.952030Z",
     "start_time": "2024-12-26T16:28:09.298387Z"
    }
   },
   "cell_type": "code",
   "source": [
    "data = pd.read_csv('normalization/en_train.csv')\n",
    "data.head(10)"
   ],
   "id": "88671364bf48dbca",
   "outputs": [
    {
     "data": {
      "text/plain": [
       "   sentence_id  token_id  class         before          after\n",
       "0            0         0  PLAIN  Brillantaisia  Brillantaisia\n",
       "1            0         1  PLAIN             is             is\n",
       "2            0         2  PLAIN              a              a\n",
       "3            0         3  PLAIN          genus          genus\n",
       "4            0         4  PLAIN             of             of\n",
       "5            0         5  PLAIN          plant          plant\n",
       "6            0         6  PLAIN             in             in\n",
       "7            0         7  PLAIN         family         family\n",
       "8            0         8  PLAIN    Acanthaceae    Acanthaceae\n",
       "9            0         9  PUNCT              .              ."
      ],
      "text/html": [
       "<div>\n",
       "<style scoped>\n",
       "    .dataframe tbody tr th:only-of-type {\n",
       "        vertical-align: middle;\n",
       "    }\n",
       "\n",
       "    .dataframe tbody tr th {\n",
       "        vertical-align: top;\n",
       "    }\n",
       "\n",
       "    .dataframe thead th {\n",
       "        text-align: right;\n",
       "    }\n",
       "</style>\n",
       "<table border=\"1\" class=\"dataframe\">\n",
       "  <thead>\n",
       "    <tr style=\"text-align: right;\">\n",
       "      <th></th>\n",
       "      <th>sentence_id</th>\n",
       "      <th>token_id</th>\n",
       "      <th>class</th>\n",
       "      <th>before</th>\n",
       "      <th>after</th>\n",
       "    </tr>\n",
       "  </thead>\n",
       "  <tbody>\n",
       "    <tr>\n",
       "      <th>0</th>\n",
       "      <td>0</td>\n",
       "      <td>0</td>\n",
       "      <td>PLAIN</td>\n",
       "      <td>Brillantaisia</td>\n",
       "      <td>Brillantaisia</td>\n",
       "    </tr>\n",
       "    <tr>\n",
       "      <th>1</th>\n",
       "      <td>0</td>\n",
       "      <td>1</td>\n",
       "      <td>PLAIN</td>\n",
       "      <td>is</td>\n",
       "      <td>is</td>\n",
       "    </tr>\n",
       "    <tr>\n",
       "      <th>2</th>\n",
       "      <td>0</td>\n",
       "      <td>2</td>\n",
       "      <td>PLAIN</td>\n",
       "      <td>a</td>\n",
       "      <td>a</td>\n",
       "    </tr>\n",
       "    <tr>\n",
       "      <th>3</th>\n",
       "      <td>0</td>\n",
       "      <td>3</td>\n",
       "      <td>PLAIN</td>\n",
       "      <td>genus</td>\n",
       "      <td>genus</td>\n",
       "    </tr>\n",
       "    <tr>\n",
       "      <th>4</th>\n",
       "      <td>0</td>\n",
       "      <td>4</td>\n",
       "      <td>PLAIN</td>\n",
       "      <td>of</td>\n",
       "      <td>of</td>\n",
       "    </tr>\n",
       "    <tr>\n",
       "      <th>5</th>\n",
       "      <td>0</td>\n",
       "      <td>5</td>\n",
       "      <td>PLAIN</td>\n",
       "      <td>plant</td>\n",
       "      <td>plant</td>\n",
       "    </tr>\n",
       "    <tr>\n",
       "      <th>6</th>\n",
       "      <td>0</td>\n",
       "      <td>6</td>\n",
       "      <td>PLAIN</td>\n",
       "      <td>in</td>\n",
       "      <td>in</td>\n",
       "    </tr>\n",
       "    <tr>\n",
       "      <th>7</th>\n",
       "      <td>0</td>\n",
       "      <td>7</td>\n",
       "      <td>PLAIN</td>\n",
       "      <td>family</td>\n",
       "      <td>family</td>\n",
       "    </tr>\n",
       "    <tr>\n",
       "      <th>8</th>\n",
       "      <td>0</td>\n",
       "      <td>8</td>\n",
       "      <td>PLAIN</td>\n",
       "      <td>Acanthaceae</td>\n",
       "      <td>Acanthaceae</td>\n",
       "    </tr>\n",
       "    <tr>\n",
       "      <th>9</th>\n",
       "      <td>0</td>\n",
       "      <td>9</td>\n",
       "      <td>PUNCT</td>\n",
       "      <td>.</td>\n",
       "      <td>.</td>\n",
       "    </tr>\n",
       "  </tbody>\n",
       "</table>\n",
       "</div>"
      ]
     },
     "execution_count": 5,
     "metadata": {},
     "output_type": "execute_result"
    }
   ],
   "execution_count": 5
  },
  {
   "metadata": {
    "ExecuteTime": {
     "end_time": "2024-12-26T16:27:31.542621Z",
     "start_time": "2024-12-26T16:27:31.539620Z"
    }
   },
   "cell_type": "code",
   "source": "data.shape",
   "id": "25fe87c2036c4e84",
   "outputs": [
    {
     "data": {
      "text/plain": [
       "(9918441, 5)"
      ]
     },
     "execution_count": 3,
     "metadata": {},
     "output_type": "execute_result"
    }
   ],
   "execution_count": 3
  },
  {
   "metadata": {
    "ExecuteTime": {
     "end_time": "2024-12-26T16:32:17.945558Z",
     "start_time": "2024-12-26T16:32:15.607446Z"
    }
   },
   "cell_type": "code",
   "source": [
    "filtered_data = data[data['before'].str.contains(r'\\d', na=False) | data['before'].str.isupper()]\n",
    "filtered_data.head()"
   ],
   "id": "90fad335381972c",
   "outputs": [
    {
     "data": {
      "text/plain": [
       "    sentence_id  token_id     class before               after\n",
       "10            1         0      DATE   2006    two thousand six\n",
       "11            1         1   LETTERS   IUCN             i u c n\n",
       "51            3         7      DATE   2007  two thousand seven\n",
       "80            5         0      DATE   2008  two thousand eight\n",
       "95            6         3  CARDINAL     91          ninety one"
      ],
      "text/html": [
       "<div>\n",
       "<style scoped>\n",
       "    .dataframe tbody tr th:only-of-type {\n",
       "        vertical-align: middle;\n",
       "    }\n",
       "\n",
       "    .dataframe tbody tr th {\n",
       "        vertical-align: top;\n",
       "    }\n",
       "\n",
       "    .dataframe thead th {\n",
       "        text-align: right;\n",
       "    }\n",
       "</style>\n",
       "<table border=\"1\" class=\"dataframe\">\n",
       "  <thead>\n",
       "    <tr style=\"text-align: right;\">\n",
       "      <th></th>\n",
       "      <th>sentence_id</th>\n",
       "      <th>token_id</th>\n",
       "      <th>class</th>\n",
       "      <th>before</th>\n",
       "      <th>after</th>\n",
       "    </tr>\n",
       "  </thead>\n",
       "  <tbody>\n",
       "    <tr>\n",
       "      <th>10</th>\n",
       "      <td>1</td>\n",
       "      <td>0</td>\n",
       "      <td>DATE</td>\n",
       "      <td>2006</td>\n",
       "      <td>two thousand six</td>\n",
       "    </tr>\n",
       "    <tr>\n",
       "      <th>11</th>\n",
       "      <td>1</td>\n",
       "      <td>1</td>\n",
       "      <td>LETTERS</td>\n",
       "      <td>IUCN</td>\n",
       "      <td>i u c n</td>\n",
       "    </tr>\n",
       "    <tr>\n",
       "      <th>51</th>\n",
       "      <td>3</td>\n",
       "      <td>7</td>\n",
       "      <td>DATE</td>\n",
       "      <td>2007</td>\n",
       "      <td>two thousand seven</td>\n",
       "    </tr>\n",
       "    <tr>\n",
       "      <th>80</th>\n",
       "      <td>5</td>\n",
       "      <td>0</td>\n",
       "      <td>DATE</td>\n",
       "      <td>2008</td>\n",
       "      <td>two thousand eight</td>\n",
       "    </tr>\n",
       "    <tr>\n",
       "      <th>95</th>\n",
       "      <td>6</td>\n",
       "      <td>3</td>\n",
       "      <td>CARDINAL</td>\n",
       "      <td>91</td>\n",
       "      <td>ninety one</td>\n",
       "    </tr>\n",
       "  </tbody>\n",
       "</table>\n",
       "</div>"
      ]
     },
     "execution_count": 6,
     "metadata": {},
     "output_type": "execute_result"
    }
   ],
   "execution_count": 6
  },
  {
   "metadata": {
    "ExecuteTime": {
     "end_time": "2024-12-26T16:34:13.712878Z",
     "start_time": "2024-12-26T16:34:13.708030Z"
    }
   },
   "cell_type": "code",
   "source": "filtered_data.head(10)",
   "id": "4ab1fd35986b9af3",
   "outputs": [
    {
     "data": {
      "text/plain": [
       "     sentence_id  token_id     class          before  \\\n",
       "10             1         0      DATE            2006   \n",
       "11             1         1   LETTERS            IUCN   \n",
       "51             3         7      DATE            2007   \n",
       "80             5         0      DATE            2008   \n",
       "95             6         3  CARDINAL              91   \n",
       "111            8         1      DATE    4 March 2014   \n",
       "115            9         2   LETTERS              BC   \n",
       "116            9         3  CARDINAL               3   \n",
       "143           10         8  CARDINAL              35   \n",
       "147           11         1      DATE  April 10, 2013   \n",
       "\n",
       "                                   after  \n",
       "10                      two thousand six  \n",
       "11                               i u c n  \n",
       "51                    two thousand seven  \n",
       "80                    two thousand eight  \n",
       "95                            ninety one  \n",
       "111  the fourth of march twenty fourteen  \n",
       "115                                  b c  \n",
       "116                                three  \n",
       "143                          thirty five  \n",
       "147          april tenth twenty thirteen  "
      ],
      "text/html": [
       "<div>\n",
       "<style scoped>\n",
       "    .dataframe tbody tr th:only-of-type {\n",
       "        vertical-align: middle;\n",
       "    }\n",
       "\n",
       "    .dataframe tbody tr th {\n",
       "        vertical-align: top;\n",
       "    }\n",
       "\n",
       "    .dataframe thead th {\n",
       "        text-align: right;\n",
       "    }\n",
       "</style>\n",
       "<table border=\"1\" class=\"dataframe\">\n",
       "  <thead>\n",
       "    <tr style=\"text-align: right;\">\n",
       "      <th></th>\n",
       "      <th>sentence_id</th>\n",
       "      <th>token_id</th>\n",
       "      <th>class</th>\n",
       "      <th>before</th>\n",
       "      <th>after</th>\n",
       "    </tr>\n",
       "  </thead>\n",
       "  <tbody>\n",
       "    <tr>\n",
       "      <th>10</th>\n",
       "      <td>1</td>\n",
       "      <td>0</td>\n",
       "      <td>DATE</td>\n",
       "      <td>2006</td>\n",
       "      <td>two thousand six</td>\n",
       "    </tr>\n",
       "    <tr>\n",
       "      <th>11</th>\n",
       "      <td>1</td>\n",
       "      <td>1</td>\n",
       "      <td>LETTERS</td>\n",
       "      <td>IUCN</td>\n",
       "      <td>i u c n</td>\n",
       "    </tr>\n",
       "    <tr>\n",
       "      <th>51</th>\n",
       "      <td>3</td>\n",
       "      <td>7</td>\n",
       "      <td>DATE</td>\n",
       "      <td>2007</td>\n",
       "      <td>two thousand seven</td>\n",
       "    </tr>\n",
       "    <tr>\n",
       "      <th>80</th>\n",
       "      <td>5</td>\n",
       "      <td>0</td>\n",
       "      <td>DATE</td>\n",
       "      <td>2008</td>\n",
       "      <td>two thousand eight</td>\n",
       "    </tr>\n",
       "    <tr>\n",
       "      <th>95</th>\n",
       "      <td>6</td>\n",
       "      <td>3</td>\n",
       "      <td>CARDINAL</td>\n",
       "      <td>91</td>\n",
       "      <td>ninety one</td>\n",
       "    </tr>\n",
       "    <tr>\n",
       "      <th>111</th>\n",
       "      <td>8</td>\n",
       "      <td>1</td>\n",
       "      <td>DATE</td>\n",
       "      <td>4 March 2014</td>\n",
       "      <td>the fourth of march twenty fourteen</td>\n",
       "    </tr>\n",
       "    <tr>\n",
       "      <th>115</th>\n",
       "      <td>9</td>\n",
       "      <td>2</td>\n",
       "      <td>LETTERS</td>\n",
       "      <td>BC</td>\n",
       "      <td>b c</td>\n",
       "    </tr>\n",
       "    <tr>\n",
       "      <th>116</th>\n",
       "      <td>9</td>\n",
       "      <td>3</td>\n",
       "      <td>CARDINAL</td>\n",
       "      <td>3</td>\n",
       "      <td>three</td>\n",
       "    </tr>\n",
       "    <tr>\n",
       "      <th>143</th>\n",
       "      <td>10</td>\n",
       "      <td>8</td>\n",
       "      <td>CARDINAL</td>\n",
       "      <td>35</td>\n",
       "      <td>thirty five</td>\n",
       "    </tr>\n",
       "    <tr>\n",
       "      <th>147</th>\n",
       "      <td>11</td>\n",
       "      <td>1</td>\n",
       "      <td>DATE</td>\n",
       "      <td>April 10, 2013</td>\n",
       "      <td>april tenth twenty thirteen</td>\n",
       "    </tr>\n",
       "  </tbody>\n",
       "</table>\n",
       "</div>"
      ]
     },
     "execution_count": 7,
     "metadata": {},
     "output_type": "execute_result"
    }
   ],
   "execution_count": 7
  },
  {
   "metadata": {
    "ExecuteTime": {
     "end_time": "2024-12-26T16:35:51.551819Z",
     "start_time": "2024-12-26T16:35:50.954175Z"
    }
   },
   "cell_type": "code",
   "source": "filtered_data.to_csv('normalization/filtered_output.csv', index=False)",
   "id": "7bbf780cbaf4cc67",
   "outputs": [],
   "execution_count": 8
  },
  {
   "metadata": {
    "ExecuteTime": {
     "end_time": "2024-12-26T16:36:06.688990Z",
     "start_time": "2024-12-26T16:36:06.685990Z"
    }
   },
   "cell_type": "code",
   "source": "filtered_data.shape",
   "id": "82acd7c8de43295f",
   "outputs": [
    {
     "data": {
      "text/plain": [
       "(647612, 5)"
      ]
     },
     "execution_count": 9,
     "metadata": {},
     "output_type": "execute_result"
    }
   ],
   "execution_count": 9
  },
  {
   "metadata": {
    "ExecuteTime": {
     "end_time": "2024-12-26T17:42:32.689445Z",
     "start_time": "2024-12-26T17:42:32.302642Z"
    }
   },
   "cell_type": "code",
   "source": "data['class'].unique()",
   "id": "610fafd0970f1e8f",
   "outputs": [
    {
     "data": {
      "text/plain": [
       "array(['PLAIN', 'PUNCT', 'DATE', 'LETTERS', 'CARDINAL', 'VERBATIM',\n",
       "       'DECIMAL', 'MEASURE', 'MONEY', 'ORDINAL', 'TIME', 'ELECTRONIC',\n",
       "       'DIGIT', 'FRACTION', 'TELEPHONE', 'ADDRESS'], dtype=object)"
      ]
     },
     "execution_count": 10,
     "metadata": {},
     "output_type": "execute_result"
    }
   ],
   "execution_count": 10
  },
  {
   "metadata": {
    "ExecuteTime": {
     "end_time": "2024-12-26T17:49:39.692817Z",
     "start_time": "2024-12-26T17:49:39.667811Z"
    }
   },
   "cell_type": "code",
   "source": [
    "import random\n",
    "import json\n",
    "\n",
    "# Extend and modify examples for unique and non-repetitive dataset generation\n",
    "categories = [\n",
    "    \"PLAIN\", \"PUNCT\", \"DATE\", \"LETTERS\", \"CARDINAL\", \"VERBATIM\", \"DECIMAL\", \n",
    "    \"MEASURE\", \"MONEY\", \"ORDINAL\", \"TIME\", \"ELECTRONIC\", \"DIGIT\", \"FRACTION\", \n",
    "    \"TELEPHONE\", \"ADDRESS\"\n",
    "]\n",
    "\n",
    "unique_data_samples = [\n",
    "    {\"input\": \"২০০১\", \"output\": \"দুই হাজার এক\", \"category\": \"DATE\"},\n",
    "    {\"input\": \"আইএলও\", \"output\": \"আই এল ও\", \"category\": \"LETTERS\"},\n",
    "    {\"input\": \"৩৫\", \"output\": \"পঁইত্রিশ\", \"category\": \"CARDINAL\"},\n",
    "    {\"input\": \"৪৫.৭\", \"output\": \"পঁইত্রিশ দশমিক সাত\", \"category\": \"DECIMAL\"},\n",
    "    {\"input\": \"১০০ মিটার\", \"output\": \"একশ মিটার\", \"category\": \"MEASURE\"},\n",
    "    {\"input\": \"৳৫০০\", \"output\": \"পাঁচশ টাকা\", \"category\": \"MONEY\"},\n",
    "    {\"input\": \"তৃতীয়\", \"output\": \"তৃতীয়\", \"category\": \"ORDINAL\"},\n",
    "    {\"input\": \"১২:৪৫\", \"output\": \"বারোটা পঁইতাল্লিশ মিনিট\", \"category\": \"TIME\"},\n",
    "    {\"input\": \"contact@domain.com\", \"output\": \"কনটাক্ট এট ডোমেইন ডট কম\", \"category\": \"ELECTRONIC\"},\n",
    "    {\"input\": \"৪৫৬\", \"output\": \"চার পাঁচ ছয়\", \"category\": \"DIGIT\"},\n",
    "    {\"input\": \"৩/৪\", \"output\": \"তিন চতুর্থাংশ\", \"category\": \"FRACTION\"},\n",
    "    {\"input\": \"+৮৮০১৯১১২৩৪৫৬৭\", \"output\": \"প্লাস আট আট শূন্য এক নয় এক এক দুই তিন চার পাঁচ ছয় সাত\", \"category\": \"TELEPHONE\"},\n",
    "    {\"input\": \"ফ্ল্যাট ৪বি\", \"output\": \"ফ্ল্যাট চার বি\", \"category\": \"ADDRESS\"},\n",
    "    {\"input\": \"প্রধান সংবাদ\", \"output\": \"প্রধান সংবাদ\", \"category\": \"PLAIN\"},\n",
    "    {\"input\": \"!\", \"output\": \"বিস্ময়বোধক চিহ্ন\", \"category\": \"PUNCT\"}\n",
    "]\n",
    "\n",
    "# Generate unique dataset with no repetitions\n",
    "large_unique_dataset = []\n",
    "for _ in range(200):  # Create a large unique dataset\n",
    "    sample = random.choice(unique_data_samples)\n",
    "    input_variation = f\"{sample['input']}_{random.randint(1, 1000)}\"  # Add variation to ensure uniqueness\n",
    "    large_unique_dataset.append({\n",
    "        \"input\": input_variation,\n",
    "        \"output\": sample[\"output\"],\n",
    "        \"category\": sample[\"category\"]\n",
    "    })\n",
    "\n",
    "# Save the unique dataset to a JSON file\n",
    "unique_output_path = \"unique_bangla_text_normalization_dataset.json\"\n",
    "with open(unique_output_path, \"w\", encoding=\"utf-8\") as f:\n",
    "    json.dump(large_unique_dataset, f, ensure_ascii=False, indent=4)\n",
    "\n",
    "unique_output_path\n"
   ],
   "id": "cbca2df434851957",
   "outputs": [
    {
     "data": {
      "text/plain": [
       "'unique_bangla_text_normalization_dataset.json'"
      ]
     },
     "execution_count": 11,
     "metadata": {},
     "output_type": "execute_result"
    }
   ],
   "execution_count": 11
  },
  {
   "metadata": {},
   "cell_type": "code",
   "outputs": [],
   "execution_count": null,
   "source": "",
   "id": "b2e716938329de07"
  }
 ],
 "metadata": {
  "kernelspec": {
   "display_name": "Python 3",
   "language": "python",
   "name": "python3"
  },
  "language_info": {
   "codemirror_mode": {
    "name": "ipython",
    "version": 2
   },
   "file_extension": ".py",
   "mimetype": "text/x-python",
   "name": "python",
   "nbconvert_exporter": "python",
   "pygments_lexer": "ipython2",
   "version": "2.7.6"
  }
 },
 "nbformat": 4,
 "nbformat_minor": 5
}
